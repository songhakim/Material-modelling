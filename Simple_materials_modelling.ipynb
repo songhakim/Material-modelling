{
  "nbformat": 4,
  "nbformat_minor": 0,
  "metadata": {
    "colab": {
      "provenance": [],
      "authorship_tag": "ABX9TyPLD3048dqU4M6Iwb9kc+1U",
      "include_colab_link": true
    },
    "kernelspec": {
      "name": "python3",
      "display_name": "Python 3"
    },
    "language_info": {
      "name": "python"
    }
  },
  "cells": [
    {
      "cell_type": "markdown",
      "metadata": {
        "id": "view-in-github",
        "colab_type": "text"
      },
      "source": [
        "<a href=\"https://colab.research.google.com/github/songhakim/Material-modelling/blob/main/Simple_materials_modelling.ipynb\" target=\"_parent\"><img src=\"https://colab.research.google.com/assets/colab-badge.svg\" alt=\"Open In Colab\"/></a>"
      ]
    },
    {
      "cell_type": "markdown",
      "source": [
        "### **Task 1**\n",
        "\n",
        "Simple model to describe the interaction of atoms, called the \"Morse potential\", \n",
        "which assumes that atoms interact with each other pairwise, and the total potential energy of a collection of atoms is\n",
        "\n",
        "$$\n",
        "E_{total} = \\sum_{i \\textrm{\\textgreater} j} V_{M}(r_{ij})\n",
        "$$\n",
        "\n",
        "where the double sum runs over the indices of every pair of atoms (counting every pair only once), $r_{ij}$ is the distance between atoms $i$ and $j$, and the _interaction potential_ is given by\n",
        "\n",
        "$$\n",
        "V_{M}(r) = D \\left[e^{-2\\alpha (r-r_0))} - 2e^{-\\alpha (r-r_0))} \\right]\n",
        "$$\n",
        "\n",
        "There are three adjustable parameters in this model. You can think of $D$ as fixing the energy scale of the model, $r_0$ as fixing the distance between neighbouring atoms, and $\\alpha$ as fixing the length scale over which the interaction between atoms decays (in inverse length units). \n",
        "\n",
        "In the small scale world of atoms, it is convenient to measure energies in _electron Volts_ (eV), with 1 eV $\\approx 1.6 \\times 10^{-19}~$J, and distances in _Ångstroms_ (Å), with 1 Å = $10^{-10}~$m, and these are the intrinsic units of ASE. All other derived units follow from this, e.g. forces are in eV/Å, stresses are in eV/Å$^3$. ASE provides the constant ```GPa``` that can be used to convert pressures and stresses from eV/Å$^3$ into GPa units. "
      ],
      "metadata": {
        "id": "WokWcXC_mYXs"
      }
    },
    {
      "cell_type": "code",
      "source": [
        "!pip install ase\n",
        "!pip install matscipy"
      ],
      "metadata": {
        "colab": {
          "base_uri": "https://localhost:8080/"
        },
        "id": "JBxClL0Zm2cn",
        "outputId": "b62dc90b-e3d5-4b15-aaba-40c5023ac357"
      },
      "execution_count": 6,
      "outputs": [
        {
          "output_type": "stream",
          "name": "stdout",
          "text": [
            "Looking in indexes: https://pypi.org/simple, https://us-python.pkg.dev/colab-wheels/public/simple/\n",
            "Requirement already satisfied: ase in /usr/local/lib/python3.8/dist-packages (3.22.1)\n",
            "Requirement already satisfied: matplotlib>=3.1.0 in /usr/local/lib/python3.8/dist-packages (from ase) (3.2.2)\n",
            "Requirement already satisfied: scipy>=1.1.0 in /usr/local/lib/python3.8/dist-packages (from ase) (1.7.3)\n",
            "Requirement already satisfied: numpy>=1.15.0 in /usr/local/lib/python3.8/dist-packages (from ase) (1.21.6)\n",
            "Requirement already satisfied: python-dateutil>=2.1 in /usr/local/lib/python3.8/dist-packages (from matplotlib>=3.1.0->ase) (2.8.2)\n",
            "Requirement already satisfied: cycler>=0.10 in /usr/local/lib/python3.8/dist-packages (from matplotlib>=3.1.0->ase) (0.11.0)\n",
            "Requirement already satisfied: pyparsing!=2.0.4,!=2.1.2,!=2.1.6,>=2.0.1 in /usr/local/lib/python3.8/dist-packages (from matplotlib>=3.1.0->ase) (3.0.9)\n",
            "Requirement already satisfied: kiwisolver>=1.0.1 in /usr/local/lib/python3.8/dist-packages (from matplotlib>=3.1.0->ase) (1.4.4)\n",
            "Requirement already satisfied: six>=1.5 in /usr/local/lib/python3.8/dist-packages (from python-dateutil>=2.1->matplotlib>=3.1.0->ase) (1.15.0)\n",
            "Looking in indexes: https://pypi.org/simple, https://us-python.pkg.dev/colab-wheels/public/simple/\n",
            "Collecting matscipy\n",
            "  Downloading matscipy-0.7.0.tar.gz (255 kB)\n",
            "\u001b[2K     \u001b[90m━━━━━━━━━━━━━━━━━━━━━━━━━━━━━━━━━━━━━━━\u001b[0m \u001b[32m255.1/255.1 KB\u001b[0m \u001b[31m6.9 MB/s\u001b[0m eta \u001b[36m0:00:00\u001b[0m\n",
            "\u001b[?25h  Preparing metadata (setup.py) ... \u001b[?25l\u001b[?25hdone\n",
            "Building wheels for collected packages: matscipy\n",
            "  Building wheel for matscipy (setup.py) ... \u001b[?25l\u001b[?25hdone\n",
            "  Created wheel for matscipy: filename=matscipy-0.7.0-cp38-cp38-linux_x86_64.whl size=487977 sha256=eb3e2f0195adc7455cc9eb2488525a1d4faa73de17818a7d5dde8f48c1c3e5b4\n",
            "  Stored in directory: /root/.cache/pip/wheels/53/18/36/624abd202697126510f3d3c9ff3ce9d22cd73fcae4be92cc0a\n",
            "Successfully built matscipy\n",
            "Installing collected packages: matscipy\n",
            "Successfully installed matscipy-0.7.0\n"
          ]
        }
      ]
    },
    {
      "cell_type": "code",
      "execution_count": 10,
      "metadata": {
        "id": "evRFSLIkmHt0"
      },
      "outputs": [],
      "source": [
        "from __future__ import print_function\n",
        "import numpy as np\n",
        "from ase import Atoms\n",
        "from ase.units import eV, Ang, GPa\n",
        "d = 2.5*Ang\n",
        "a = Atoms('2Cu', positions=[(0., 0., 0.), (0., 0., d)])"
      ]
    },
    {
      "cell_type": "code",
      "source": [
        "import sys\n",
        "sys.path.append(r'files')\n",
        "import Morse\n",
        "calc = Morse.MorsePotential()\n",
        "\n",
        "a.set_calculator(calc) \n",
        "a.get_potential_energy()"
      ],
      "metadata": {
        "colab": {
          "base_uri": "https://localhost:8080/"
        },
        "id": "q1yN6Za5nd4A",
        "outputId": "1d995dd9-9e16-4154-a3e5-c028900cc494"
      },
      "execution_count": 12,
      "outputs": [
        {
          "output_type": "execute_result",
          "data": {
            "text/plain": [
              "-0.14929402163819286"
            ]
          },
          "metadata": {},
          "execution_count": 12
        }
      ]
    },
    {
      "cell_type": "markdown",
      "source": [
        "### Deliverable 1\n",
        "\n",
        "Function that computes the Morse potential energy for two atoms for a given distance between them, and use it to:\n",
        "1. __Created a plot of the energy against distance. Now do the same for the the force exerted by one atom on the other.__\n",
        "\n",
        "2. __Distance between the two atoms corresponding to the lowest potential energy ?__\n"
      ],
      "metadata": {
        "id": "vxAxsW0JnBmS"
      }
    },
    {
      "cell_type": "code",
      "source": [
        "import numpy as np\n",
        "import matplotlib.pyplot as plt\n",
        "N = 50\n",
        "start = 2.0*Ang\n",
        "end = 4*Ang\n",
        "t = np.linspace(start,end,N)\n",
        "\n",
        "energy = np.zeros(N)\n",
        "force = np.zeros(N)\n",
        "\n",
        "for i in range (0,N):\n",
        "    a = Atoms('2Cu', positions=[(0., 0., 0.), (0., 0., t[i])])\n",
        "    a.set_calculator(calc) \n",
        "    energy[i] = a.get_potential_energy()\n",
        "    force[i] = a.get_forces()[0][2]\n",
        "\n",
        "plt.figure(1)\n",
        "plt.plot(t, energy)\n",
        "plt.xlabel(\"distance [Å]\")\n",
        "plt.ylabel(\"potential energy [eV]\")\n",
        "plt.show()\n",
        "\n",
        "plt.figure(2)\n",
        "plt.plot(t, force, color=\"red\")\n",
        "plt.xlabel(\"distance [Å]\")\n",
        "plt.ylabel(\"force [eV/Å]\")\n",
        "plt.show()\n",
        "\n",
        "print(\"lowest potential energy is at the distance greater than 2.0Å.\")"
      ],
      "metadata": {
        "colab": {
          "base_uri": "https://localhost:8080/",
          "height": 564
        },
        "id": "tRPxC5UNnM7A",
        "outputId": "d7dfb0cc-0f4e-41df-9f0a-307c07d9495e"
      },
      "execution_count": 13,
      "outputs": [
        {
          "output_type": "display_data",
          "data": {
            "text/plain": [
              "<Figure size 432x288 with 1 Axes>"
            ],
            "image/png": "[encoded data removed]"
          },
          "metadata": {
            "needs_background": "light"
          }
        },
        {
          "output_type": "display_data",
          "data": {
            "text/plain": [
              "<Figure size 432x288 with 1 Axes>"
            ],
            "image/png": "[encoded data removed]"
          },
          "metadata": {
            "needs_background": "light"
          }
        },
        {
          "output_type": "stream",
          "name": "stdout",
          "text": [
            "lowest potential energy is at the distance greater than 2.0Å.\n"
          ]
        }
      ]
    },
    {
      "cell_type": "markdown",
      "source": [
        "### Task and Deliverable 2 \n",
        "\n",
        "1. __Unit test_ that verifies that the forces returned by the ```get_forces()``` function is really the negative gradient of the energy (as returned by the ```get_potential_energy()``` function) with respect to the atomic positions. Do this by comparing the forces returned by ```get_forces()``` to those obtained by numerical finite differences of energies between two sets of atomic positions, displaced by small amount.__\n",
        "\n",
        "2. __Experiment with different values of $\\epsilon$ and look at how accurate the approximation is as a function of $\\epsilon$.__\n",
        "\n",
        "\n",
        "Use the idea of the definition of the gradient and its relation to the Taylor expansion:\n",
        "\n",
        "$$\n",
        "\\nabla f(x) \\approx \\frac{f(x+\\epsilon)-f(x)}{\\epsilon}\n",
        "$$"
      ],
      "metadata": {
        "id": "0kisxrsbpB7T"
      }
    },
    {
      "cell_type": "code",
      "source": [
        "gradient_energy = np.zeros(N)\n",
        "e = (end - start)/N\n",
        "\n",
        "\n",
        "for i in range(1, N):\n",
        "    gradient_energy[i-1] = (energy[i] - energy[i-1])/e\n",
        "\n",
        "plt.figure(3)\n",
        "plt.plot(t[1:N], gradient_energy[1:N], color=\"green\", label = \"gradient of Energy\")\n",
        "plt.plot(t[1:N], force[1:N], color=\"blue\", label = \"force\")\n",
        "plt.xlabel(\"distance [Å]\")\n",
        "plt.ylabel(\"[eV/Å]\")\n",
        "plt.legend()\n",
        "plt.show()"
      ],
      "metadata": {
        "colab": {
          "base_uri": "https://localhost:8080/",
          "height": 281
        },
        "id": "iU47NiD2pJ_w",
        "outputId": "f754fc86-30e6-41bd-84b2-86a05af1116a"
      },
      "execution_count": 14,
      "outputs": [
        {
          "output_type": "display_data",
          "data": {
            "text/plain": [
              "<Figure size 432x288 with 1 Axes>"
            ],
            "image/png": "[encoded data removed]"
          },
          "metadata": {
            "needs_background": "light"
          }
        }
      ]
    },
    {
      "cell_type": "markdown",
      "source": [
        "### Task 3\n",
        "\n",
        "_Created a cubic unit cell of the Cu crystal, and extract some of its properties._\n",
        "\n",
        "In order to investigate the properties of bulk copper, we need to model a large number of atoms. But evaluating the total potential energy of a large number of atoms takes a long time, and so we need a shortcut. In fact many simple properties of a crystalline solid can be evaluated by just considering its _unit cell_, i.e. the smallest repeating unit from which the crystal is made. This is typically true for static properties that do not depend on atoms experiencing a variety of neighbour environments, i.e. in the absence of _defects_. Such properties include the _lattice constant_ (i.e. the density), the _equation of state_, the _elastic constants_ (including the _bulk modulus_), the _Poisson ratio_, etc. \n",
        "\n",
        "The trick is to _assume_ that the atoms are arranged in perfect crystalline order, and only explicitly consider those atoms that are in a single unit cell. In order to correctly evaluate the energy, the _effect_ of atoms in neighbouring unit cells needs to be included, but this can be done by using [_periodic boundary conditions_](https://en.wikipedia.org/wiki/Periodic_boundary_conditions). \n",
        "\n",
        "In the image below, the blue shaded area is the unit cell, its sides are the lattice vectors that generate the periodic images. "
      ],
      "metadata": {
        "id": "ZGIGm9IEpiI_"
      }
    },
    {
      "cell_type": "markdown",
      "source": [
        "![Periodic cells](./content/unitcell2.png)"
      ],
      "metadata": {
        "id": "J5NKAi-FpyR9"
      }
    },
    {
      "cell_type": "markdown",
      "source": [
        "### Deliverable 3\n",
        "\n",
        "1. __A program that calculates and plots the potential energy and pressure (P) of the copper crystal as a function of volume by applying varying amounts of hydrostatic strain.__\n",
        "2. __Calculated the [bulk modulus](https://en.wikipedia.org/wiki/Bulk_modulus) at the equilibrium volume. Compare it to the experimental value.__\n",
        "\n",
        "- The experimental value for Bulk modulus is around 130 - 145 GPa. "
      ],
      "metadata": {
        "id": "7mAbrFRUqTDY"
      }
    },
    {
      "cell_type": "code",
      "source": [
        "from ase.build import bulk\n",
        "cu = bulk(\"Cu\", \"fcc\", a=3.6, cubic=True)"
      ],
      "metadata": {
        "id": "3uiyp1fqqhOp"
      },
      "execution_count": 16,
      "outputs": []
    },
    {
      "cell_type": "code",
      "source": [
        "# potential energy / atom, volumes / atom\n",
        "cu = bulk(\"Cu\", \"fcc\", a=3.6, cubic=True)\n",
        "cu.set_calculator(calc)\n",
        "cuii = cu.copy()\n",
        "cuii.set_calculator(calc)\n",
        "\n",
        "N = 40\n",
        "volume = np.zeros(N)\n",
        "potential = np.zeros(N)\n",
        "pressure = np.zeros(N)\n",
        "\n",
        "#compression\n",
        "for i in range(0,int(N/2)):\n",
        "    cell = cu.get_cell()\n",
        "    potential[int(N/2)-1-i] = cu.get_potential_energy()/cu.get_number_of_atoms()\n",
        "    volume[int(N/2)-1-i] = cell[0][0] * cell[1][1] * cell[2][2] / cu.get_number_of_atoms()\n",
        "    pressure[int(N/2)-1-i] = -1/3 * np.trace(cu.get_stress(voigt=False))\n",
        "    cell *= 0.99\n",
        "    cu.set_cell(cell, scale_atoms=True)\n",
        "    \n",
        "#tension\n",
        "for i in range(int(N/2),N):\n",
        "    cell = cuii.get_cell()\n",
        "    potential[i] = cuii.get_potential_energy()/cuii.get_number_of_atoms()\n",
        "    volume[i] = cell[0][0] * cell[1][1] * cell[2][2] / cuii.get_number_of_atoms()\n",
        "    pressure[i] = -1/3 * np.trace(cuii.get_stress(voigt=False))\n",
        "    cell *= 1.01\n",
        "    cuii.set_cell(cell, scale_atoms=True)\n",
        "plt.figure(4)\n",
        "plt.plot(volume, potential)\n",
        "plt.xlabel(\"volume per atoms\")\n",
        "plt.ylabel(\"potential energy per atoms\")\n",
        "plt.show()\n",
        "\n",
        "plt.figure(5)\n",
        "plt.plot(volume, pressure, color = \"orange\")\n",
        "plt.xlabel(\"volume per atoms\")\n",
        "plt.ylabel(\"pressure\")\n",
        "plt.show()\n"
      ],
      "metadata": {
        "colab": {
          "base_uri": "https://localhost:8080/",
          "height": 610
        },
        "id": "SJ9QqMDZqYld",
        "outputId": "f384c1bb-f6e5-46cb-aebd-961fae753012"
      },
      "execution_count": 17,
      "outputs": [
        {
          "output_type": "stream",
          "name": "stderr",
          "text": [
            "/usr/local/lib/python3.8/dist-packages/ase/atoms.py:967: VisibleDeprecationWarning: Use get_global_number_of_atoms() instead\n",
            "  warnings.warn('Use get_global_number_of_atoms() instead',\n",
            "/usr/local/lib/python3.8/dist-packages/ase/utils/__init__.py:62: FutureWarning: Please use atoms.cell.rank instead\n",
            "  warnings.warn(warning)\n"
          ]
        },
        {
          "output_type": "display_data",
          "data": {
            "text/plain": [
              "<Figure size 432x288 with 1 Axes>"
            ],
            "image/png": "[encoded data removed]"
          },
          "metadata": {
            "needs_background": "light"
          }
        },
        {
          "output_type": "display_data",
          "data": {
            "text/plain": [
              "<Figure size 432x288 with 1 Axes>"
            ],
            "image/png": "[encoded data removed]"
          },
          "metadata": {
            "needs_background": "light"
          }
        }
      ]
    },
    {
      "cell_type": "code",
      "source": [
        "# Compared result above to those computed by ASE. \n",
        "\n",
        "# The call below takes two arrays: the variable V is an array of volumes/atom and E\n",
        "# is an array of corresponding potential energy values, again per atom. If you want to execute this\n",
        "\n",
        "from ase.eos import EquationOfState\n",
        "from ase.units import kJ\n",
        "eos = EquationOfState(volume, potential, eos=\"birchmurnaghan\") # Birch-Murnaghan is a particular functional form fitted to the equation of state\n",
        "v0, e0, B = eos.fit()\n",
        "print('Bulk modulus: ', B / kJ * 1.0e24, 'GPa')\n",
        "eos.plot()\n",
        "print(\"calculated bulk modulus is 20% lower than the experiment data.\")"
      ],
      "metadata": {
        "colab": {
          "base_uri": "https://localhost:8080/",
          "height": 340
        },
        "id": "GowGHNjtqnkk",
        "outputId": "c9105d56-ec16-4b1a-ea06-3d4c93a72727"
      },
      "execution_count": 18,
      "outputs": [
        {
          "output_type": "stream",
          "name": "stdout",
          "text": [
            "Bulk modulus:  103.3230807554667 GPa\n",
            "calculated bulk modulus is 20% lower than the experiment data.\n"
          ]
        },
        {
          "output_type": "display_data",
          "data": {
            "text/plain": [
              "<Figure size 432x288 with 1 Axes>"
            ],
            "image/png": "[encoded data removed]"
          },
          "metadata": {
            "needs_background": "light"
          }
        }
      ]
    },
    {
      "cell_type": "markdown",
      "source": [
        "### Task and Deliverable 4 \n",
        "\n",
        "1. __Write a program to compute the [shear modulus](https://en.wikipedia.org/wiki/Shear_modulus).__\n",
        "\n",
        "a shear in the XY plane by modifying the X component of the lattice vector that points originally in the Y direction, i.e. $L_{2x}$. Apply _small_ amounts of shear, i.e. a few percent. Starting with a cubic cell with side lengths L, new cell matrix, after applying 1% shear in the XY plane, would be given by\n",
        "\n",
        "$$\n",
        "\\left[\\begin{matrix}\n",
        "L & 0.01L & 0\\\\0&L&0\\\\ 0&0&L\n",
        "\\end{matrix}\\right]\n",
        "$$\n",
        "\n",
        "\n",
        "2. __A program to determine the [Poisson ratio](https://en.wikipedia.org/wiki/Poisson%27s_ratio)__\n",
        "\n",
        "- The experimental value for Poisson ratio is around 0.34 - 0.36 and around 44 - 49 GPa for the Shear modulus. \n",
        "- Note that ASE results the mathematical shear strain ($\\varepsilon$), not the engineering shear strain ($\\gamma$).\n"
      ],
      "metadata": {
        "id": "7QN_d6DSqzzR"
      }
    },
    {
      "cell_type": "code",
      "source": [
        "# shear modulus\n",
        "import math\n",
        "cu = bulk(\"Cu\", \"fcc\", a=3.6, cubic=True)\n",
        "cu.set_calculator(calc)\n",
        "\n",
        "def get_shear_modulus(atom, strain):\n",
        "    #assuming shear stress only acts on XY plane in x direction\n",
        "    length = atom.cell[0][0]\n",
        "    atom.cell[0][1] = length * strain\n",
        "    #print(atom.cell)\n",
        "    tau = cu.get_stress(voigt=False)\n",
        "    print(tau)\n",
        "    tau_XY = tau[0][1] \n",
        "    G = 160*(tau_XY/(strain*2)) # unit conversion\n",
        "    return G\n",
        "G= get_shear_modulus(cu, 0.01)\n",
        "print(\"G =\", G, \"Gpa\")\n",
        "\n"
      ],
      "metadata": {
        "colab": {
          "base_uri": "https://localhost:8080/"
        },
        "id": "CdNfT1sBrB51",
        "outputId": "1c663605-2e94-440f-d5cc-6f109adf2c99"
      },
      "execution_count": 19,
      "outputs": [
        {
          "output_type": "stream",
          "name": "stdout",
          "text": [
            "[[-1.97424376e-03  5.39946226e-03 -2.37959325e-18]\n",
            " [ 5.39946226e-03 -1.79562278e-03 -1.48724578e-18]\n",
            " [-2.37959325e-18 -1.48724578e-18 -1.49739726e-03]]\n",
            "G = 43.195698107866505 Gpa\n"
          ]
        },
        {
          "output_type": "stream",
          "name": "stderr",
          "text": [
            "/usr/local/lib/python3.8/dist-packages/ase/utils/__init__.py:62: FutureWarning: Please use atoms.cell.rank instead\n",
            "  warnings.warn(warning)\n"
          ]
        }
      ]
    },
    {
      "cell_type": "code",
      "source": [
        "cu = bulk(\"Cu\", \"fcc\", a=3.603, cubic=True)\n",
        "cu.set_calculator(calc)\n",
        "\n",
        "# poisson ratio\n",
        "def get_poisson_ratio (atom, strain, N = 50):\n",
        "    length = atom.cell[0][0]\n",
        "    atom.cell[0][0] += length* strain\n",
        "    v = 0.01\n",
        "\n",
        "    for i in range (0, N):\n",
        "        atom.cell[1][1] -= length* strain* v \n",
        "        stress = atom.get_stress(voigt=False)\n",
        "        stress_y = stress[1][1]\n",
        "        if (-0.001 <= stress_y <= 0.001 ):\n",
        "            return v\n",
        "            break\n",
        "        v += 0.01\n",
        "        atom.cell[1][1] = length\n",
        "\n",
        "print(get_poisson_ratio(cu, 0.05))"
      ],
      "metadata": {
        "colab": {
          "base_uri": "https://localhost:8080/"
        },
        "id": "ZMzIJ90IrCAA",
        "outputId": "5ee4ec44-4b93-4cfd-a08d-3577341ee356"
      },
      "execution_count": 20,
      "outputs": [
        {
          "output_type": "stream",
          "name": "stdout",
          "text": [
            "0.4100000000000002\n"
          ]
        }
      ]
    }
  ]
}